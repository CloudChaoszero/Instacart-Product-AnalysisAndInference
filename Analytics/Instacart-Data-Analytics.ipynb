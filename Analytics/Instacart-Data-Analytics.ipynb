{
 "cells": [
  {
   "cell_type": "markdown",
   "metadata": {},
   "source": [
    "# Instacart: Analysis and Forecasting\n",
    "\n",
    "by [Raul Maldonado](https://www.linkedin.com/in/raulm8)\n",
    "\n",
    "\n",
    "**STILL IN DEVELOPMENT**"
   ]
  },
  {
   "cell_type": "markdown",
   "metadata": {},
   "source": [
    "![InstaCart Logo](https://bloximages.chicago2.vip.townnews.com/pinalcentral.com/content/tncms/assets/v3/editorial/e/4c/e4cb9197-ddce-59e1-93c7-2868e145c705/5b858c3f5e8de.image.jpg?resize=400%2C212)"
   ]
  },
  {
   "cell_type": "markdown",
   "metadata": {},
   "source": [
    "## 1. Introduction\n",
    "\n",
    "**Background**:\n",
    "\n",
    "Instacart, a grocery ordering and delivery app, aims to make it easy to fill your refrigerator and pantry with your personal favorites and staples when you need them. After selecting products through the Instacart app, personal shoppers review your order and do the in-store shopping and delivery for you.\n",
    "\n",
    "\n",
    "From the Instacart Kaggle competition, the organization challenged the Kaggle community  to use this anonymized data on customer orders over time to predict which previously purchased products will be in a user’s next order. \n",
    "\n",
    "\n",
    "### Import"
   ]
  },
  {
   "cell_type": "code",
   "execution_count": 90,
   "metadata": {},
   "outputs": [],
   "source": [
    "import os\n",
    "\n",
    "import pandas as pd\n",
    "import numpy as np\n",
    "\n",
    "import matplotlib.pyplot as plt\n",
    "plt.rcParams[\"axes.grid\"] = False\n",
    "\n",
    "# Personal information via Localfile in\n",
    "# the Resources/Admin folder.\n",
    "import sys\n",
    "sys.path.append(\"../Resources/Admin\")\n",
    "path = os.path.join('..','Resources','Data','RawData')"
   ]
  },
  {
   "cell_type": "code",
   "execution_count": 91,
   "metadata": {},
   "outputs": [
    {
     "name": "stdout",
     "output_type": "stream",
     "text": [
      "\u001b[34m__MACOSX\u001b[m\u001b[m                  order_products__prior.csv products.csv\n",
      "aisles.csv                order_products__train.csv sample_submission.csv\n",
      "departments.csv           orders.csv\n"
     ]
    }
   ],
   "source": [
    "!ls ../Resources/Data/RawData"
   ]
  },
  {
   "cell_type": "code",
   "execution_count": 92,
   "metadata": {},
   "outputs": [],
   "source": [
    "aislesDf = pd.read_csv(f'{path}/aisles.csv')\n",
    "departmentsDf = pd.read_csv(f'{path}/departments.csv')\n",
    "productsDf = pd.read_csv(f'{path}/products.csv')\n",
    "ordersDf = pd.read_csv(f'{path}/orders.csv')\n",
    "order_products_prior = pd.read_csv(f'{path}/order_products__prior.csv')\n",
    "order_products_train = pd.read_csv(f'{path}/order_products__train.csv')"
   ]
  },
  {
   "cell_type": "code",
   "execution_count": 93,
   "metadata": {},
   "outputs": [],
   "source": [
    "ordersDf_prior = ordersDf[ordersDf['eval_set']=='prior']"
   ]
  },
  {
   "cell_type": "code",
   "execution_count": null,
   "metadata": {},
   "outputs": [],
   "source": []
  },
  {
   "cell_type": "markdown",
   "metadata": {},
   "source": [
    "## 2. Analysis"
   ]
  },
  {
   "cell_type": "markdown",
   "metadata": {},
   "source": [
    "### EDA\n",
    "\n",
    "We explore the various data of orders and product related characteristics to find patterns and habits from users purchases. This analysis alllows us to go more in-depth into finding potential discoverable insights in determining re-order classification for future purchases\n",
    "\n",
    "**Preliminary EDA thoughts:**\n",
    "* What are the top products ordered from users?\n",
    "* What is the average basket of each order?\n",
    "* What is the ranking of users total orders in dataset?\n",
    "  * What is the average number of orders?\n",
    "* What is the timeline for this dataset?\n",
    "* What is the average basket price for each order?\n",
    "* What is the total spend from users?\n",
    "* Is there any noticeable geographical information to segment from?\n",
    "* Can we identify the popular aisles?\n",
    "\n",
    "What determines re-order? Type of product? Common essentials from specific aisles or departments? \n",
    "\n",
    "Does having a specific time of the day impact the re-ordering probability?\n",
    "\n",
    "Since this is more of re-ordering probability (yes or no), can we have a supervised classification algorithm implemented for this project? There isn't a clearly defined structure of features, so curious about decision tree or random forest implementation.\n"
   ]
  },
  {
   "cell_type": "markdown",
   "metadata": {},
   "source": [
    "#### Average Order Size"
   ]
  },
  {
   "cell_type": "code",
   "execution_count": 96,
   "metadata": {},
   "outputs": [
    {
     "data": {
      "text/html": [
       "<div>\n",
       "<style scoped>\n",
       "    .dataframe tbody tr th:only-of-type {\n",
       "        vertical-align: middle;\n",
       "    }\n",
       "\n",
       "    .dataframe tbody tr th {\n",
       "        vertical-align: top;\n",
       "    }\n",
       "\n",
       "    .dataframe thead th {\n",
       "        text-align: right;\n",
       "    }\n",
       "</style>\n",
       "<table border=\"1\" class=\"dataframe\">\n",
       "  <thead>\n",
       "    <tr style=\"text-align: right;\">\n",
       "      <th></th>\n",
       "      <th>User Count</th>\n",
       "    </tr>\n",
       "    <tr>\n",
       "      <th>user_id</th>\n",
       "      <th></th>\n",
       "    </tr>\n",
       "  </thead>\n",
       "  <tbody>\n",
       "    <tr>\n",
       "      <th>152340</th>\n",
       "      <td>100</td>\n",
       "    </tr>\n",
       "    <tr>\n",
       "      <th>185641</th>\n",
       "      <td>100</td>\n",
       "    </tr>\n",
       "    <tr>\n",
       "      <th>185524</th>\n",
       "      <td>100</td>\n",
       "    </tr>\n",
       "    <tr>\n",
       "      <th>81678</th>\n",
       "      <td>100</td>\n",
       "    </tr>\n",
       "    <tr>\n",
       "      <th>70922</th>\n",
       "      <td>100</td>\n",
       "    </tr>\n",
       "    <tr>\n",
       "      <th>136870</th>\n",
       "      <td>100</td>\n",
       "    </tr>\n",
       "    <tr>\n",
       "      <th>81704</th>\n",
       "      <td>100</td>\n",
       "    </tr>\n",
       "    <tr>\n",
       "      <th>119932</th>\n",
       "      <td>100</td>\n",
       "    </tr>\n",
       "    <tr>\n",
       "      <th>119835</th>\n",
       "      <td>100</td>\n",
       "    </tr>\n",
       "    <tr>\n",
       "      <th>91035</th>\n",
       "      <td>100</td>\n",
       "    </tr>\n",
       "  </tbody>\n",
       "</table>\n",
       "</div>"
      ],
      "text/plain": [
       "         User Count\n",
       "user_id            \n",
       "152340          100\n",
       "185641          100\n",
       "185524          100\n",
       "81678           100\n",
       "70922           100\n",
       "136870          100\n",
       "81704           100\n",
       "119932          100\n",
       "119835          100\n",
       "91035           100"
      ]
     },
     "execution_count": 96,
     "metadata": {},
     "output_type": "execute_result"
    }
   ],
   "source": [
    "numOrders_perUser = ordersDf[['order_id','user_id']].groupby('user_id').count() \\\n",
    "                          .sort_values('order_id',ascending=False)\n",
    "numOrders_perUser.columns = ['User Count']"
   ]
  },
  {
   "cell_type": "code",
   "execution_count": null,
   "metadata": {},
   "outputs": [],
   "source": [
    "numOrders_perUser[:10]"
   ]
  },
  {
   "cell_type": "code",
   "execution_count": 104,
   "metadata": {},
   "outputs": [
    {
     "data": {
      "image/png": "[encoded data removed]",
      "text/plain": [
       "<Figure size 432x288 with 1 Axes>"
      ]
     },
     "metadata": {},
     "output_type": "display_data"
    },
    {
     "name": "stdout",
     "output_type": "stream",
     "text": [
      "          User Count\n",
      "count  206209.000000\n",
      "mean       16.590367\n",
      "std        16.654774\n",
      "min         4.000000\n",
      "25%         6.000000\n",
      "50%        10.000000\n",
      "75%        20.000000\n",
      "max       100.000000\n",
      "\n",
      "Average number of users: 16\n"
     ]
    }
   ],
   "source": [
    "numOrders_perUser.hist()\n",
    "plt.title('Customer Orders Distribution')\n",
    "plt.show()\n",
    "\n",
    "\n",
    "ordersUsersSummary = numOrders_perUser.describe()\n",
    "print(ordersUsersSummary)\n",
    "print(f'''\\nAverage Order Size: {int(ordersUsersSummary.loc['mean'])}''')"
   ]
  },
  {
   "cell_type": "markdown",
   "metadata": {},
   "source": [
    "#### Top 15 Purchased Products"
   ]
  },
  {
   "cell_type": "code",
   "execution_count": 105,
   "metadata": {},
   "outputs": [],
   "source": [
    "ordersJoinedProductNames_df = order_products_prior.merge(productsDf,on=[ \\\n",
    "                                  'product_id','product_id'], how='inner')"
   ]
  },
  {
   "cell_type": "code",
   "execution_count": 106,
   "metadata": {},
   "outputs": [],
   "source": [
    "ordersJoinedProductNames_byProduct = ordersJoinedProductNames_df[ \\\n",
    "                                     ['product_name','order_id']].groupby('product_name') \\\n",
    "                                         .count().sort_values('order_id',ascending=False)\n",
    "ordersJoinedProductNames_byProduct.columns = ['Product Count']"
   ]
  },
  {
   "cell_type": "code",
   "execution_count": null,
   "metadata": {},
   "outputs": [],
   "source": []
  },
  {
   "cell_type": "code",
   "execution_count": null,
   "metadata": {},
   "outputs": [],
   "source": []
  },
  {
   "cell_type": "code",
   "execution_count": 108,
   "metadata": {},
   "outputs": [
    {
     "data": {
      "image/png": "[encoded data removed]",
      "text/plain": [
       "<Figure size 432x288 with 1 Axes>"
      ]
     },
     "metadata": {},
     "output_type": "display_data"
    },
    {
     "name": "stdout",
     "output_type": "stream",
     "text": [
      "                        order_id\n",
      "product_name                    \n",
      "Banana                    472565\n",
      "Bag of Organic Bananas    379450\n",
      "Organic Strawberries      264683\n",
      "Organic Baby Spinach      241921\n",
      "Organic Hass Avocado      213584\n",
      "Organic Avocado           176815\n",
      "Large Lemon               152657\n",
      "Strawberries              142951\n",
      "Limes                     140627\n",
      "Organic Whole Milk        137905\n"
     ]
    }
   ],
   "source": [
    "ordersJoinedProductNames_byProduct[:15].plot(kind='bar')\n",
    "plt.title('Top 15 Products Purchased')\n",
    "plt.ylabel('Purchase Count (1e7)')\n",
    "plt.show()\n",
    "\n",
    "print(ordersJoinedProductNames_byProduct[:10])"
   ]
  },
  {
   "cell_type": "markdown",
   "metadata": {},
   "source": [
    "Top products purchased by users were more towards essential produce or other essentials ranging from 137,000-470,00. It would be insightsful to determine what products would and are going to be top purchases from signals like pricing or \"essential\" food rating. (i.e. More analysis could be carried in here for evaluation of association to predicting re-ordering likelihood)"
   ]
  },
  {
   "cell_type": "markdown",
   "metadata": {},
   "source": [
    "#### Top 15 Purchased Products by Aisle"
   ]
  },
  {
   "cell_type": "code",
   "execution_count": 111,
   "metadata": {},
   "outputs": [],
   "source": [
    "orders_JoinProductsAndDepartments = order_products_prior.merge( \\\n",
    "        productsDf, on=['product_id','product_id'],how='inner') \\\n",
    "        .merge(departmentsDf, on =['department_id','department_id'], \\\n",
    "        how='left')"
   ]
  },
  {
   "cell_type": "code",
   "execution_count": 140,
   "metadata": {},
   "outputs": [],
   "source": [
    "orders_JoinProductsAndAisles_grouped = orders_JoinProductsAndDepartments[ \\\n",
    "        ['order_id','aisle_id']] \\\n",
    "        .groupby(['aisle_id']).count().reset_index( \\\n",
    "        'aisle_id',drop=False).sort_values('order_id',ascending=False)\n",
    "orders_JoinProductsAndAisles_grouped.set_index('aisle_id',inplace = True)\n",
    "orders_JoinProductsAndAisles_grouped.columns = ['Aisle Count']"
   ]
  },
  {
   "cell_type": "code",
   "execution_count": 141,
   "metadata": {},
   "outputs": [
    {
     "data": {
      "text/html": [
       "<div>\n",
       "<style scoped>\n",
       "    .dataframe tbody tr th:only-of-type {\n",
       "        vertical-align: middle;\n",
       "    }\n",
       "\n",
       "    .dataframe tbody tr th {\n",
       "        vertical-align: top;\n",
       "    }\n",
       "\n",
       "    .dataframe thead th {\n",
       "        text-align: right;\n",
       "    }\n",
       "</style>\n",
       "<table border=\"1\" class=\"dataframe\">\n",
       "  <thead>\n",
       "    <tr style=\"text-align: right;\">\n",
       "      <th></th>\n",
       "      <th>Aisle Count</th>\n",
       "    </tr>\n",
       "    <tr>\n",
       "      <th>aisle_id</th>\n",
       "      <th></th>\n",
       "    </tr>\n",
       "  </thead>\n",
       "  <tbody>\n",
       "    <tr>\n",
       "      <th>24</th>\n",
       "      <td>3642188</td>\n",
       "    </tr>\n",
       "    <tr>\n",
       "      <th>83</th>\n",
       "      <td>3418021</td>\n",
       "    </tr>\n",
       "    <tr>\n",
       "      <th>123</th>\n",
       "      <td>1765313</td>\n",
       "    </tr>\n",
       "    <tr>\n",
       "      <th>120</th>\n",
       "      <td>1452343</td>\n",
       "    </tr>\n",
       "    <tr>\n",
       "      <th>21</th>\n",
       "      <td>979763</td>\n",
       "    </tr>\n",
       "  </tbody>\n",
       "</table>\n",
       "</div>"
      ],
      "text/plain": [
       "          Aisle Count\n",
       "aisle_id             \n",
       "24            3642188\n",
       "83            3418021\n",
       "123           1765313\n",
       "120           1452343\n",
       "21             979763"
      ]
     },
     "execution_count": 141,
     "metadata": {},
     "output_type": "execute_result"
    }
   ],
   "source": [
    "orders_JoinProductsAndAisles_grouped.head()"
   ]
  },
  {
   "cell_type": "code",
   "execution_count": 146,
   "metadata": {},
   "outputs": [],
   "source": [
    "ordersAisleDF = orders_JoinProductsAndAisles_grouped.merge( \\\n",
    "                    aislesDf,on=['aisle_id','aisle_id'],how='inner')[['aisle','Aisle Count']]"
   ]
  },
  {
   "cell_type": "code",
   "execution_count": 150,
   "metadata": {},
   "outputs": [],
   "source": [
    "ordersAisleDF.set_index('aisle',inplace=True)"
   ]
  },
  {
   "cell_type": "code",
   "execution_count": 152,
   "metadata": {},
   "outputs": [
    {
     "data": {
      "image/png": "[encoded data removed]",
      "text/plain": [
       "<Figure size 432x288 with 1 Axes>"
      ]
     },
     "metadata": {},
     "output_type": "display_data"
    },
    {
     "name": "stdout",
     "output_type": "stream",
     "text": [
      "                               Aisle Count\n",
      "aisle                                     \n",
      "fresh fruits                       3642188\n",
      "fresh vegetables                   3418021\n",
      "packaged vegetables fruits         1765313\n",
      "yogurt                             1452343\n",
      "packaged cheese                     979763\n",
      "milk                                891015\n",
      "water seltzer sparkling water       841533\n",
      "chips pretzels                      722470\n",
      "soy lactosefree                     638253\n",
      "bread                               584834\n"
     ]
    }
   ],
   "source": [
    "ordersAisleDF[:10].plot(kind='bar')\n",
    "plt.title('Top Purchased Items by Aisles')\n",
    "plt.ylabel('Purchase Count (1e7)')\n",
    "plt.show()\n",
    "\n",
    "print(ordersAisleDF[:10])"
   ]
  },
  {
   "cell_type": "markdown",
   "metadata": {},
   "source": [
    "#### Top Department-related orders"
   ]
  },
  {
   "cell_type": "code",
   "execution_count": 12,
   "metadata": {},
   "outputs": [],
   "source": [
    "orders_JoinProductsAndDepartments = order_products_prior.merge(productsDf,on=['product_id','product_id'],how='inner') \\\n",
    "                    .merge(departmentsDf, on =['department_id','department_id'], \\\n",
    "                           how='left')"
   ]
  },
  {
   "cell_type": "code",
   "execution_count": 13,
   "metadata": {},
   "outputs": [],
   "source": [
    "orders_JoinProductsAndDepartments_grouped = orders_JoinProductsAndDepartments[['order_id','department_id','department']] \\\n",
    "        .groupby(['department_id','department']).count().reset_index( \\\n",
    "        'department_id',drop=True).sort_values('order_id',ascending=False)\n",
    "orders_JoinProductsAndDepartments_grouped.columns = ['Department Count']"
   ]
  },
  {
   "cell_type": "code",
   "execution_count": 14,
   "metadata": {},
   "outputs": [
    {
     "data": {
      "image/png": "[encoded data removed]",
      "text/plain": [
       "<Figure size 432x288 with 1 Axes>"
      ]
     },
     "metadata": {},
     "output_type": "display_data"
    }
   ],
   "source": [
    "orders_JoinProductsAndDepartments_grouped.plot(kind='bar')\n",
    "plt.title('Top Purchased Items by Department')\n",
    "plt.ylabel('Purchase Count (1e7)')\n",
    "plt.show()\n",
    "\n",
    "print(orders_JoinProductsAndDepartments_grouped[:10])"
   ]
  },
  {
   "cell_type": "markdown",
   "metadata": {},
   "source": [
    "**Thoughts so far**\n",
    "\n",
    "Focusing on a product-centric analysis through segementation of Products, Aisles, and Departments, we find the following:\n",
    "\n",
    "\n",
    "For more exploration, what other factors could be associated with a good chance in a product's probability for re-ordering? If you notice, we can identify a time-series segementation for further analysis by using day of the week (DoW), Time of Day, or other time signals/features.\n",
    "\n",
    "Moreover, can we gauge re-order ratio for time related segmentations?"
   ]
  },
  {
   "cell_type": "markdown",
   "metadata": {},
   "source": [
    "#### Event/Time Segmentation"
   ]
  },
  {
   "cell_type": "markdown",
   "metadata": {},
   "source": [
    "##### Orders and Day of the Week"
   ]
  },
  {
   "cell_type": "code",
   "execution_count": 162,
   "metadata": {},
   "outputs": [],
   "source": [
    "ordersAndProducts_TimeDf = order_products_prior.merge( \\\n",
    "        ordersDf_prior, how='left', on =['order_id','order_id'])\\\n",
    "        .merge(productsDf, how='left', on =['product_id','product_id'])\n"
   ]
  },
  {
   "cell_type": "code",
   "execution_count": 170,
   "metadata": {},
   "outputs": [],
   "source": [
    "orders_timeDf_nonDuplicates = ordersAndProducts_TimeDf.drop_duplicates('order_id')[[\\\n",
    "        'order_id','order_dow']]\n",
    "orders_timeDf_nonDuplicates.reset_index(inplace=True,drop = True)"
   ]
  },
  {
   "cell_type": "code",
   "execution_count": 180,
   "metadata": {},
   "outputs": [
    {
     "data": {
      "image/png": "[encoded data removed]",
      "text/plain": [
       "<Figure size 432x288 with 1 Axes>"
      ]
     },
     "metadata": {},
     "output_type": "display_data"
    }
   ],
   "source": [
    "orders_timeDf_nonDuplicates.groupby(['order_dow'])\\\n",
    "        .count()\\\n",
    "        .plot(kind='bar',legend =False)\n",
    "plt.title('Orders by Day of the Week (DoW)')\n",
    "plt.ylabel('Order Count')\n",
    "plt.xlabel('DoW')\n",
    "plt.show()"
   ]
  },
  {
   "cell_type": "markdown",
   "metadata": {},
   "source": [
    "##### Orders and Time of Day"
   ]
  },
  {
   "cell_type": "code",
   "execution_count": 184,
   "metadata": {},
   "outputs": [],
   "source": [
    "orders_timeDf_nonDuplicates_ohod = ordersAndProducts_TimeDf.drop_duplicates('order_id')[[\\\n",
    "        'order_id','order_hour_of_day']]\n",
    "orders_timeDf_nonDuplicates_ohod.reset_index(inplace=True,drop = True)"
   ]
  },
  {
   "cell_type": "code",
   "execution_count": 185,
   "metadata": {},
   "outputs": [
    {
     "data": {
      "image/png": "[encoded data removed]",
      "text/plain": [
       "<Figure size 432x288 with 1 Axes>"
      ]
     },
     "metadata": {},
     "output_type": "display_data"
    }
   ],
   "source": [
    "orders_timeDf_nonDuplicates_ohod.groupby(['order_hour_of_day'])\\\n",
    "        .count()\\\n",
    "        .plot(kind='bar',legend =False)\n",
    "plt.title('Orders by Time of the Day')\n",
    "plt.ylabel('Order Count')\n",
    "plt.xlabel('Time of Day')\n",
    "plt.show()"
   ]
  },
  {
   "cell_type": "code",
   "execution_count": 186,
   "metadata": {},
   "outputs": [
    {
     "data": {
      "text/plain": [
       "Index(['order_id', 'product_id', 'add_to_cart_order', 'reordered', 'user_id',\n",
       "       'eval_set', 'order_number', 'order_dow', 'order_hour_of_day',\n",
       "       'days_since_prior_order', 'product_name', 'aisle_id', 'department_id'],\n",
       "      dtype='object')"
      ]
     },
     "execution_count": 186,
     "metadata": {},
     "output_type": "execute_result"
    }
   ],
   "source": [
    "## Get segmentation by Day of the week and time of the day for particular products, top of them\n",
    "ordersAndProducts_TimeDf.columns"
   ]
  },
  {
   "cell_type": "markdown",
   "metadata": {},
   "source": [
    "Note:\n",
    "\n",
    "WORK ON visualization with colors as Morning, Afternoon, evening\n",
    "\n",
    "Work on visualization execution segmentation"
   ]
  },
  {
   "cell_type": "code",
   "execution_count": null,
   "metadata": {},
   "outputs": [],
   "source": []
  },
  {
   "cell_type": "markdown",
   "metadata": {},
   "source": [
    "##### Top Products by Time of the Day"
   ]
  },
  {
   "cell_type": "code",
   "execution_count": 188,
   "metadata": {},
   "outputs": [],
   "source": [
    "orders_timeDf_ohod = ordersAndProducts_TimeDf[[\\\n",
    "        'order_id','order_hour_of_day','product_name']]\n",
    "orders_timeDf_ohod.reset_index(inplace=True,drop = True)"
   ]
  },
  {
   "cell_type": "code",
   "execution_count": 197,
   "metadata": {},
   "outputs": [
    {
     "data": {
      "text/plain": [
       "<matplotlib.axes._subplots.AxesSubplot at 0x10c806d68>"
      ]
     },
     "execution_count": 197,
     "metadata": {},
     "output_type": "execute_result"
    },
    {
     "data": {
      "image/png": "[encoded data removed]",
      "text/plain": [
       "<Figure size 432x288 with 1 Axes>"
      ]
     },
     "metadata": {},
     "output_type": "display_data"
    }
   ],
   "source": [
    "orders_timeDf_ohod.groupby(['order_hour_of_day','product_name'])\\\n",
    "        .count().sort_values('order_id',ascending=False)[:10]\\\n",
    "        .plot(kind='bar')"
   ]
  },
  {
   "cell_type": "code",
   "execution_count": null,
   "metadata": {},
   "outputs": [],
   "source": [
    "orders_timeDf_ohod.groupby(['order_hour_of_day','product_name'])\\\n",
    "        .count()\\\n",
    "        .plot(kind='bar',legend =False)\n",
    "plt.title('Orders by Time of the Day')\n",
    "plt.ylabel('Order Count')\n",
    "plt.xlabel('Time of Day')\n",
    "plt.show()"
   ]
  },
  {
   "cell_type": "markdown",
   "metadata": {},
   "source": [
    "##### Top Products by Day of the Week"
   ]
  },
  {
   "cell_type": "code",
   "execution_count": 198,
   "metadata": {},
   "outputs": [
    {
     "ename": "NameError",
     "evalue": "name 'TODO' is not defined",
     "output_type": "error",
     "traceback": [
      "\u001b[0;31m---------------------------------------------------------------------------\u001b[0m",
      "\u001b[0;31mNameError\u001b[0m                                 Traceback (most recent call last)",
      "\u001b[0;32m<ipython-input-198-2494f9b4f745>\u001b[0m in \u001b[0;36m<module>\u001b[0;34m()\u001b[0m\n\u001b[0;32m----> 1\u001b[0;31m \u001b[0mTODO\u001b[0m\u001b[0;34m\u001b[0m\u001b[0m\n\u001b[0m",
      "\u001b[0;31mNameError\u001b[0m: name 'TODO' is not defined"
     ]
    }
   ],
   "source": [
    "TODO"
   ]
  },
  {
   "cell_type": "code",
   "execution_count": null,
   "metadata": {},
   "outputs": [],
   "source": []
  },
  {
   "cell_type": "code",
   "execution_count": null,
   "metadata": {},
   "outputs": [],
   "source": []
  },
  {
   "cell_type": "markdown",
   "metadata": {},
   "source": [
    "#### Top Non-reordered Products"
   ]
  },
  {
   "cell_type": "code",
   "execution_count": null,
   "metadata": {},
   "outputs": [],
   "source": [
    "Thought: Overall re-ordered, or top products from only re-ordered products only"
   ]
  },
  {
   "cell_type": "code",
   "execution_count": null,
   "metadata": {},
   "outputs": [],
   "source": []
  },
  {
   "cell_type": "code",
   "execution_count": 15,
   "metadata": {},
   "outputs": [],
   "source": [
    "orderProducts_withProduct = order_products_prior.merge(productsDf, \\ \n",
    "                            on=['product_id','product_id'], how ='inner')"
   ]
  },
  {
   "cell_type": "code",
   "execution_count": 53,
   "metadata": {},
   "outputs": [
    {
     "data": {
      "image/png": "[encoded data removed]",
      "text/plain": [
       "<Figure size 432x288 with 1 Axes>"
      ]
     },
     "metadata": {},
     "output_type": "display_data"
    }
   ],
   "source": [
    "orderProducts_withProduct_nonreordered = orderProducts_withProduct[orderProducts_withProduct[ \\\n",
    "                                'reordered']==0]\n",
    "orderProducts_withProduct_nonreordered[['product_name','reordered']].groupby( \\\n",
    "                            'product_name').count().reset_index() \\\n",
    "                            .sort_values(['reordered','product_name'], ascending=False) \\\n",
    "                            .set_index('product_name')[:10].plot(kind='bar')\n",
    "plt.title('Top Non-Reordered Products')\n",
    "plt.show()"
   ]
  },
  {
   "cell_type": "markdown",
   "metadata": {},
   "source": [
    "#### Top Re-ordered Products"
   ]
  },
  {
   "cell_type": "code",
   "execution_count": 52,
   "metadata": {},
   "outputs": [
    {
     "data": {
      "image/png": "[encoded data removed]",
      "text/plain": [
       "<Figure size 432x288 with 1 Axes>"
      ]
     },
     "metadata": {},
     "output_type": "display_data"
    }
   ],
   "source": [
    "orderProducts_withProduct_reordered = orderProducts_withProduct[orderProducts_withProduct[ \\\n",
    "                                'reordered']==1]\n",
    "orderProducts_withProduct_reordered[['product_name','reordered']].groupby( \\\n",
    "                            'product_name').count().reset_index() \\\n",
    "                            .sort_values('reordered', ascending=False) \\\n",
    "                            .set_index('product_name')[:10].plot(kind='bar')\n",
    "plt.title('Top Reordered Products')\n",
    "plt.show()"
   ]
  },
  {
   "cell_type": "code",
   "execution_count": 17,
   "metadata": {},
   "outputs": [
    {
     "data": {
      "text/html": [
       "<div>\n",
       "<style scoped>\n",
       "    .dataframe tbody tr th:only-of-type {\n",
       "        vertical-align: middle;\n",
       "    }\n",
       "\n",
       "    .dataframe tbody tr th {\n",
       "        vertical-align: top;\n",
       "    }\n",
       "\n",
       "    .dataframe thead th {\n",
       "        text-align: right;\n",
       "    }\n",
       "</style>\n",
       "<table border=\"1\" class=\"dataframe\">\n",
       "  <thead>\n",
       "    <tr style=\"text-align: right;\">\n",
       "      <th></th>\n",
       "      <th>product_id</th>\n",
       "      <th>product_name</th>\n",
       "      <th>aisle_id</th>\n",
       "      <th>department_id</th>\n",
       "    </tr>\n",
       "  </thead>\n",
       "  <tbody>\n",
       "    <tr>\n",
       "      <th>0</th>\n",
       "      <td>1</td>\n",
       "      <td>Chocolate Sandwich Cookies</td>\n",
       "      <td>61</td>\n",
       "      <td>19</td>\n",
       "    </tr>\n",
       "    <tr>\n",
       "      <th>1</th>\n",
       "      <td>2</td>\n",
       "      <td>All-Seasons Salt</td>\n",
       "      <td>104</td>\n",
       "      <td>13</td>\n",
       "    </tr>\n",
       "    <tr>\n",
       "      <th>2</th>\n",
       "      <td>3</td>\n",
       "      <td>Robust Golden Unsweetened Oolong Tea</td>\n",
       "      <td>94</td>\n",
       "      <td>7</td>\n",
       "    </tr>\n",
       "    <tr>\n",
       "      <th>3</th>\n",
       "      <td>4</td>\n",
       "      <td>Smart Ones Classic Favorites Mini Rigatoni Wit...</td>\n",
       "      <td>38</td>\n",
       "      <td>1</td>\n",
       "    </tr>\n",
       "    <tr>\n",
       "      <th>4</th>\n",
       "      <td>5</td>\n",
       "      <td>Green Chile Anytime Sauce</td>\n",
       "      <td>5</td>\n",
       "      <td>13</td>\n",
       "    </tr>\n",
       "  </tbody>\n",
       "</table>\n",
       "</div>"
      ],
      "text/plain": [
       "   product_id                                       product_name  aisle_id  \\\n",
       "0           1                         Chocolate Sandwich Cookies        61   \n",
       "1           2                                   All-Seasons Salt       104   \n",
       "2           3               Robust Golden Unsweetened Oolong Tea        94   \n",
       "3           4  Smart Ones Classic Favorites Mini Rigatoni Wit...        38   \n",
       "4           5                          Green Chile Anytime Sauce         5   \n",
       "\n",
       "   department_id  \n",
       "0             19  \n",
       "1             13  \n",
       "2              7  \n",
       "3              1  \n",
       "4             13  "
      ]
     },
     "execution_count": 17,
     "metadata": {},
     "output_type": "execute_result"
    }
   ],
   "source": [
    "productsDf.head()"
   ]
  },
  {
   "cell_type": "code",
   "execution_count": null,
   "metadata": {},
   "outputs": [],
   "source": []
  },
  {
   "cell_type": "markdown",
   "metadata": {},
   "source": [
    "#### Top Re-ordered Products by certain segments Aisle and Department\n",
    "\n",
    "\n",
    "##### Aisle DrillDown"
   ]
  },
  {
   "cell_type": "code",
   "execution_count": 63,
   "metadata": {},
   "outputs": [
    {
     "data": {
      "text/html": [
       "<div>\n",
       "<style scoped>\n",
       "    .dataframe tbody tr th:only-of-type {\n",
       "        vertical-align: middle;\n",
       "    }\n",
       "\n",
       "    .dataframe tbody tr th {\n",
       "        vertical-align: top;\n",
       "    }\n",
       "\n",
       "    .dataframe thead th {\n",
       "        text-align: right;\n",
       "    }\n",
       "</style>\n",
       "<table border=\"1\" class=\"dataframe\">\n",
       "  <thead>\n",
       "    <tr style=\"text-align: right;\">\n",
       "      <th></th>\n",
       "      <th>order_id</th>\n",
       "      <th>product_id</th>\n",
       "      <th>add_to_cart_order</th>\n",
       "      <th>reordered</th>\n",
       "      <th>product_name</th>\n",
       "      <th>aisle_id</th>\n",
       "      <th>department_id</th>\n",
       "    </tr>\n",
       "  </thead>\n",
       "  <tbody>\n",
       "    <tr>\n",
       "      <th>0</th>\n",
       "      <td>2</td>\n",
       "      <td>33120</td>\n",
       "      <td>1</td>\n",
       "      <td>1</td>\n",
       "      <td>Organic Egg Whites</td>\n",
       "      <td>86</td>\n",
       "      <td>16</td>\n",
       "    </tr>\n",
       "    <tr>\n",
       "      <th>1</th>\n",
       "      <td>26</td>\n",
       "      <td>33120</td>\n",
       "      <td>5</td>\n",
       "      <td>0</td>\n",
       "      <td>Organic Egg Whites</td>\n",
       "      <td>86</td>\n",
       "      <td>16</td>\n",
       "    </tr>\n",
       "    <tr>\n",
       "      <th>2</th>\n",
       "      <td>120</td>\n",
       "      <td>33120</td>\n",
       "      <td>13</td>\n",
       "      <td>0</td>\n",
       "      <td>Organic Egg Whites</td>\n",
       "      <td>86</td>\n",
       "      <td>16</td>\n",
       "    </tr>\n",
       "    <tr>\n",
       "      <th>3</th>\n",
       "      <td>327</td>\n",
       "      <td>33120</td>\n",
       "      <td>5</td>\n",
       "      <td>1</td>\n",
       "      <td>Organic Egg Whites</td>\n",
       "      <td>86</td>\n",
       "      <td>16</td>\n",
       "    </tr>\n",
       "    <tr>\n",
       "      <th>4</th>\n",
       "      <td>390</td>\n",
       "      <td>33120</td>\n",
       "      <td>28</td>\n",
       "      <td>1</td>\n",
       "      <td>Organic Egg Whites</td>\n",
       "      <td>86</td>\n",
       "      <td>16</td>\n",
       "    </tr>\n",
       "  </tbody>\n",
       "</table>\n",
       "</div>"
      ],
      "text/plain": [
       "   order_id  product_id  add_to_cart_order  reordered        product_name  \\\n",
       "0         2       33120                  1          1  Organic Egg Whites   \n",
       "1        26       33120                  5          0  Organic Egg Whites   \n",
       "2       120       33120                 13          0  Organic Egg Whites   \n",
       "3       327       33120                  5          1  Organic Egg Whites   \n",
       "4       390       33120                 28          1  Organic Egg Whites   \n",
       "\n",
       "   aisle_id  department_id  \n",
       "0        86             16  \n",
       "1        86             16  \n",
       "2        86             16  \n",
       "3        86             16  \n",
       "4        86             16  "
      ]
     },
     "execution_count": 63,
     "metadata": {},
     "output_type": "execute_result"
    }
   ],
   "source": [
    "orderProducts_withProduct.head()"
   ]
  },
  {
   "cell_type": "code",
   "execution_count": 65,
   "metadata": {},
   "outputs": [],
   "source": [
    "orderProducts_withProductAisleDepart = orderProducts_withProduct.merge(\\\n",
    "                                    aislesDf,how='left',on=['aisle_id','aisle_id']).merge( \\\n",
    "                                    departmentsDf,how='left',on=['department_id', 'department_id'])"
   ]
  },
  {
   "cell_type": "code",
   "execution_count": 70,
   "metadata": {},
   "outputs": [
    {
     "data": {
      "text/html": [
       "<div>\n",
       "<style scoped>\n",
       "    .dataframe tbody tr th:only-of-type {\n",
       "        vertical-align: middle;\n",
       "    }\n",
       "\n",
       "    .dataframe tbody tr th {\n",
       "        vertical-align: top;\n",
       "    }\n",
       "\n",
       "    .dataframe thead th {\n",
       "        text-align: right;\n",
       "    }\n",
       "</style>\n",
       "<table border=\"1\" class=\"dataframe\">\n",
       "  <thead>\n",
       "    <tr style=\"text-align: right;\">\n",
       "      <th></th>\n",
       "      <th>reordered</th>\n",
       "    </tr>\n",
       "    <tr>\n",
       "      <th>aisle</th>\n",
       "      <th></th>\n",
       "    </tr>\n",
       "  </thead>\n",
       "  <tbody>\n",
       "    <tr>\n",
       "      <th>air fresheners candles</th>\n",
       "      <td>0.309052</td>\n",
       "    </tr>\n",
       "    <tr>\n",
       "      <th>asian foods</th>\n",
       "      <td>0.351132</td>\n",
       "    </tr>\n",
       "    <tr>\n",
       "      <th>baby accessories</th>\n",
       "      <td>0.550980</td>\n",
       "    </tr>\n",
       "    <tr>\n",
       "      <th>baby bath body care</th>\n",
       "      <td>0.295770</td>\n",
       "    </tr>\n",
       "    <tr>\n",
       "      <th>baby food formula</th>\n",
       "      <td>0.590259</td>\n",
       "    </tr>\n",
       "    <tr>\n",
       "      <th>bakery desserts</th>\n",
       "      <td>0.499125</td>\n",
       "    </tr>\n",
       "    <tr>\n",
       "      <th>baking ingredients</th>\n",
       "      <td>0.305082</td>\n",
       "    </tr>\n",
       "    <tr>\n",
       "      <th>baking supplies decor</th>\n",
       "      <td>0.167229</td>\n",
       "    </tr>\n",
       "    <tr>\n",
       "      <th>beauty</th>\n",
       "      <td>0.212062</td>\n",
       "    </tr>\n",
       "    <tr>\n",
       "      <th>beers coolers</th>\n",
       "      <td>0.565304</td>\n",
       "    </tr>\n",
       "    <tr>\n",
       "      <th>body lotions soap</th>\n",
       "      <td>0.329376</td>\n",
       "    </tr>\n",
       "    <tr>\n",
       "      <th>bread</th>\n",
       "      <td>0.670168</td>\n",
       "    </tr>\n",
       "    <tr>\n",
       "      <th>breakfast bakery</th>\n",
       "      <td>0.651222</td>\n",
       "    </tr>\n",
       "    <tr>\n",
       "      <th>breakfast bars pastries</th>\n",
       "      <td>0.585903</td>\n",
       "    </tr>\n",
       "    <tr>\n",
       "      <th>bulk dried fruits vegetables</th>\n",
       "      <td>0.620394</td>\n",
       "    </tr>\n",
       "    <tr>\n",
       "      <th>bulk grains rice dried goods</th>\n",
       "      <td>0.533275</td>\n",
       "    </tr>\n",
       "    <tr>\n",
       "      <th>buns rolls</th>\n",
       "      <td>0.530841</td>\n",
       "    </tr>\n",
       "    <tr>\n",
       "      <th>butter</th>\n",
       "      <td>0.576037</td>\n",
       "    </tr>\n",
       "    <tr>\n",
       "      <th>candy chocolate</th>\n",
       "      <td>0.573293</td>\n",
       "    </tr>\n",
       "    <tr>\n",
       "      <th>canned fruit applesauce</th>\n",
       "      <td>0.563012</td>\n",
       "    </tr>\n",
       "    <tr>\n",
       "      <th>canned jarred vegetables</th>\n",
       "      <td>0.421146</td>\n",
       "    </tr>\n",
       "    <tr>\n",
       "      <th>canned meals beans</th>\n",
       "      <td>0.504406</td>\n",
       "    </tr>\n",
       "    <tr>\n",
       "      <th>canned meat seafood</th>\n",
       "      <td>0.477493</td>\n",
       "    </tr>\n",
       "    <tr>\n",
       "      <th>cat food care</th>\n",
       "      <td>0.620883</td>\n",
       "    </tr>\n",
       "    <tr>\n",
       "      <th>cereal</th>\n",
       "      <td>0.571584</td>\n",
       "    </tr>\n",
       "    <tr>\n",
       "      <th>chips pretzels</th>\n",
       "      <td>0.588795</td>\n",
       "    </tr>\n",
       "    <tr>\n",
       "      <th>cleaning products</th>\n",
       "      <td>0.288537</td>\n",
       "    </tr>\n",
       "    <tr>\n",
       "      <th>cocoa drink mixes</th>\n",
       "      <td>0.405298</td>\n",
       "    </tr>\n",
       "    <tr>\n",
       "      <th>coffee</th>\n",
       "      <td>0.619727</td>\n",
       "    </tr>\n",
       "    <tr>\n",
       "      <th>cold flu allergy</th>\n",
       "      <td>0.236215</td>\n",
       "    </tr>\n",
       "    <tr>\n",
       "      <th>...</th>\n",
       "      <td>...</td>\n",
       "    </tr>\n",
       "    <tr>\n",
       "      <th>poultry counter</th>\n",
       "      <td>0.612860</td>\n",
       "    </tr>\n",
       "    <tr>\n",
       "      <th>prepared meals</th>\n",
       "      <td>0.619759</td>\n",
       "    </tr>\n",
       "    <tr>\n",
       "      <th>prepared soups salads</th>\n",
       "      <td>0.596597</td>\n",
       "    </tr>\n",
       "    <tr>\n",
       "      <th>preserved dips spreads</th>\n",
       "      <td>0.469100</td>\n",
       "    </tr>\n",
       "    <tr>\n",
       "      <th>protein meal replacements</th>\n",
       "      <td>0.506325</td>\n",
       "    </tr>\n",
       "    <tr>\n",
       "      <th>red wines</th>\n",
       "      <td>0.548734</td>\n",
       "    </tr>\n",
       "    <tr>\n",
       "      <th>refrigerated</th>\n",
       "      <td>0.663302</td>\n",
       "    </tr>\n",
       "    <tr>\n",
       "      <th>refrigerated pudding desserts</th>\n",
       "      <td>0.553421</td>\n",
       "    </tr>\n",
       "    <tr>\n",
       "      <th>salad dressing toppings</th>\n",
       "      <td>0.341414</td>\n",
       "    </tr>\n",
       "    <tr>\n",
       "      <th>seafood counter</th>\n",
       "      <td>0.515890</td>\n",
       "    </tr>\n",
       "    <tr>\n",
       "      <th>shave needs</th>\n",
       "      <td>0.262181</td>\n",
       "    </tr>\n",
       "    <tr>\n",
       "      <th>skin care</th>\n",
       "      <td>0.242031</td>\n",
       "    </tr>\n",
       "    <tr>\n",
       "      <th>soap</th>\n",
       "      <td>0.318925</td>\n",
       "    </tr>\n",
       "    <tr>\n",
       "      <th>soft drinks</th>\n",
       "      <td>0.638832</td>\n",
       "    </tr>\n",
       "    <tr>\n",
       "      <th>soup broth bouillon</th>\n",
       "      <td>0.421354</td>\n",
       "    </tr>\n",
       "    <tr>\n",
       "      <th>soy lactosefree</th>\n",
       "      <td>0.692551</td>\n",
       "    </tr>\n",
       "    <tr>\n",
       "      <th>specialty cheeses</th>\n",
       "      <td>0.489326</td>\n",
       "    </tr>\n",
       "    <tr>\n",
       "      <th>specialty wines champagnes</th>\n",
       "      <td>0.486337</td>\n",
       "    </tr>\n",
       "    <tr>\n",
       "      <th>spices seasonings</th>\n",
       "      <td>0.152391</td>\n",
       "    </tr>\n",
       "    <tr>\n",
       "      <th>spirits</th>\n",
       "      <td>0.572344</td>\n",
       "    </tr>\n",
       "    <tr>\n",
       "      <th>spreads</th>\n",
       "      <td>0.487633</td>\n",
       "    </tr>\n",
       "    <tr>\n",
       "      <th>tea</th>\n",
       "      <td>0.527615</td>\n",
       "    </tr>\n",
       "    <tr>\n",
       "      <th>tofu meat alternatives</th>\n",
       "      <td>0.607775</td>\n",
       "    </tr>\n",
       "    <tr>\n",
       "      <th>tortillas flat bread</th>\n",
       "      <td>0.551204</td>\n",
       "    </tr>\n",
       "    <tr>\n",
       "      <th>trail mix snack mix</th>\n",
       "      <td>0.620230</td>\n",
       "    </tr>\n",
       "    <tr>\n",
       "      <th>trash bags liners</th>\n",
       "      <td>0.335744</td>\n",
       "    </tr>\n",
       "    <tr>\n",
       "      <th>vitamins supplements</th>\n",
       "      <td>0.311503</td>\n",
       "    </tr>\n",
       "    <tr>\n",
       "      <th>water seltzer sparkling water</th>\n",
       "      <td>0.729593</td>\n",
       "    </tr>\n",
       "    <tr>\n",
       "      <th>white wines</th>\n",
       "      <td>0.630081</td>\n",
       "    </tr>\n",
       "    <tr>\n",
       "      <th>yogurt</th>\n",
       "      <td>0.686489</td>\n",
       "    </tr>\n",
       "  </tbody>\n",
       "</table>\n",
       "<p>134 rows × 1 columns</p>\n",
       "</div>"
      ],
      "text/plain": [
       "                               reordered\n",
       "aisle                                   \n",
       "air fresheners candles          0.309052\n",
       "asian foods                     0.351132\n",
       "baby accessories                0.550980\n",
       "baby bath body care             0.295770\n",
       "baby food formula               0.590259\n",
       "bakery desserts                 0.499125\n",
       "baking ingredients              0.305082\n",
       "baking supplies decor           0.167229\n",
       "beauty                          0.212062\n",
       "beers coolers                   0.565304\n",
       "body lotions soap               0.329376\n",
       "bread                           0.670168\n",
       "breakfast bakery                0.651222\n",
       "breakfast bars pastries         0.585903\n",
       "bulk dried fruits vegetables    0.620394\n",
       "bulk grains rice dried goods    0.533275\n",
       "buns rolls                      0.530841\n",
       "butter                          0.576037\n",
       "candy chocolate                 0.573293\n",
       "canned fruit applesauce         0.563012\n",
       "canned jarred vegetables        0.421146\n",
       "canned meals beans              0.504406\n",
       "canned meat seafood             0.477493\n",
       "cat food care                   0.620883\n",
       "cereal                          0.571584\n",
       "chips pretzels                  0.588795\n",
       "cleaning products               0.288537\n",
       "cocoa drink mixes               0.405298\n",
       "coffee                          0.619727\n",
       "cold flu allergy                0.236215\n",
       "...                                  ...\n",
       "poultry counter                 0.612860\n",
       "prepared meals                  0.619759\n",
       "prepared soups salads           0.596597\n",
       "preserved dips spreads          0.469100\n",
       "protein meal replacements       0.506325\n",
       "red wines                       0.548734\n",
       "refrigerated                    0.663302\n",
       "refrigerated pudding desserts   0.553421\n",
       "salad dressing toppings         0.341414\n",
       "seafood counter                 0.515890\n",
       "shave needs                     0.262181\n",
       "skin care                       0.242031\n",
       "soap                            0.318925\n",
       "soft drinks                     0.638832\n",
       "soup broth bouillon             0.421354\n",
       "soy lactosefree                 0.692551\n",
       "specialty cheeses               0.489326\n",
       "specialty wines champagnes      0.486337\n",
       "spices seasonings               0.152391\n",
       "spirits                         0.572344\n",
       "spreads                         0.487633\n",
       "tea                             0.527615\n",
       "tofu meat alternatives          0.607775\n",
       "tortillas flat bread            0.551204\n",
       "trail mix snack mix             0.620230\n",
       "trash bags liners               0.335744\n",
       "vitamins supplements            0.311503\n",
       "water seltzer sparkling water   0.729593\n",
       "white wines                     0.630081\n",
       "yogurt                          0.686489\n",
       "\n",
       "[134 rows x 1 columns]"
      ]
     },
     "execution_count": 70,
     "metadata": {},
     "output_type": "execute_result"
    }
   ],
   "source": [
    "orderProducts_consolidation = orderProducts_withProductAisleDepart[\\\n",
    "                                    ['order_id', 'add_to_cart_order','reordered',\n",
    "                                     'product_name','aisle','department']]\n",
    "\n",
    "orderProducts_AisleRatio = orderProducts_consolidation[['reordered','aisle']].groupby('aisle').sum() /\\\n",
    "    orderProducts_consolidation[['reordered','aisle']].groupby('aisle').count()"
   ]
  },
  {
   "cell_type": "code",
   "execution_count": 82,
   "metadata": {},
   "outputs": [
    {
     "data": {
      "image/png": "[encoded data removed]",
      "text/plain": [
       "<Figure size 432x288 with 1 Axes>"
      ]
     },
     "metadata": {},
     "output_type": "display_data"
    }
   ],
   "source": [
    "orderProducts_AisleRatio.reset_index().sort_values('reordered',\\\n",
    "                                ascending=False).set_index('aisle')[:10].plot(kind='bar',legend=False)\n",
    "plt.title('Top 10 Reorder Ratios by Aisle')\n",
    "plt.show()"
   ]
  },
  {
   "cell_type": "markdown",
   "metadata": {},
   "source": [
    "##### Department DrillDown"
   ]
  },
  {
   "cell_type": "code",
   "execution_count": 83,
   "metadata": {},
   "outputs": [],
   "source": [
    "orderProducts_consolidation = orderProducts_withProductAisleDepart[\\\n",
    "                                    ['order_id', 'add_to_cart_order','reordered',\n",
    "                                     'product_name','aisle','department']]\n",
    "\n",
    "orderProducts_DeptRatio = orderProducts_consolidation[['reordered','department']].groupby('department').sum() /\\\n",
    "    orderProducts_consolidation[['reordered','department']].groupby('department').count()\n",
    "\n",
    "\n"
   ]
  },
  {
   "cell_type": "code",
   "execution_count": 86,
   "metadata": {},
   "outputs": [
    {
     "data": {
      "image/png": "[encoded data removed]",
      "text/plain": [
       "<Figure size 432x288 with 1 Axes>"
      ]
     },
     "metadata": {},
     "output_type": "display_data"
    }
   ],
   "source": [
    "orderProducts_DeptRatio.reset_index().sort_values('reordered',\\\n",
    "                                ascending=False).set_index('department')[:10].plot(kind='bar',legend=False)\n",
    "plt.title('Top 10 Reorder Ratios by Department')\n",
    "plt.show()"
   ]
  },
  {
   "cell_type": "markdown",
   "metadata": {},
   "source": [
    "##### Product DrillDown"
   ]
  },
  {
   "cell_type": "code",
   "execution_count": 88,
   "metadata": {},
   "outputs": [],
   "source": [
    "orderProducts_consolidation = orderProducts_withProductAisleDepart[\\\n",
    "                                    ['order_id', 'add_to_cart_order','reordered',\n",
    "                                     'product_name','aisle','department']]\n",
    "\n",
    "orderProducts_ProductRatio = orderProducts_consolidation[['reordered','product_name']].groupby('product_name').sum() /\\\n",
    "    orderProducts_consolidation[['reordered','product_name']].groupby('product_name').count()"
   ]
  },
  {
   "cell_type": "code",
   "execution_count": 89,
   "metadata": {},
   "outputs": [
    {
     "data": {
      "image/png": "[encoded data removed]",
      "text/plain": [
       "<Figure size 432x288 with 1 Axes>"
      ]
     },
     "metadata": {},
     "output_type": "display_data"
    }
   ],
   "source": [
    "orderProducts_ProductRatio.reset_index().sort_values('reordered',\\\n",
    "                                ascending=False).set_index('product_name')[:10].plot(kind='bar',legend=False)\n",
    "plt.title('Top 10 Reorder Ratios by Product')\n",
    "plt.show()"
   ]
  },
  {
   "cell_type": "code",
   "execution_count": null,
   "metadata": {},
   "outputs": [],
   "source": [
    "Dow?"
   ]
  },
  {
   "cell_type": "code",
   "execution_count": null,
   "metadata": {},
   "outputs": [],
   "source": []
  },
  {
   "cell_type": "code",
   "execution_count": null,
   "metadata": {},
   "outputs": [],
   "source": [
    "Time of day?"
   ]
  },
  {
   "cell_type": "markdown",
   "metadata": {},
   "source": [
    "#### Re-identifying Characteristics for determination of modeling\n"
   ]
  },
  {
   "cell_type": "markdown",
   "metadata": {},
   "source": [
    "##### Final evaluation of model and characteristics"
   ]
  },
  {
   "cell_type": "code",
   "execution_count": null,
   "metadata": {},
   "outputs": [],
   "source": []
  },
  {
   "cell_type": "code",
   "execution_count": null,
   "metadata": {},
   "outputs": [],
   "source": []
  },
  {
   "cell_type": "code",
   "execution_count": null,
   "metadata": {},
   "outputs": [],
   "source": []
  },
  {
   "cell_type": "code",
   "execution_count": null,
   "metadata": {},
   "outputs": [],
   "source": []
  },
  {
   "cell_type": "code",
   "execution_count": null,
   "metadata": {},
   "outputs": [],
   "source": [
    "\n",
    "What is the Re-order ratio for certain basket sizes?\n",
    " ------For the grouping of basket sizes, find the total that are re-ordered from the actual total\n",
    " \n",
    " \n",
    "Time of day for reorder. ( Group by Time of day then get count of re-orders)"
   ]
  },
  {
   "cell_type": "code",
   "execution_count": null,
   "metadata": {},
   "outputs": [],
   "source": []
  },
  {
   "cell_type": "markdown",
   "metadata": {},
   "source": [
    "Thoughts:\n",
    "\n",
    "We want to identify/predict for what products would be re-ordered. \n",
    "\n",
    "For something to be re-ordered, we need to identify characteristics of what the user would order. \n",
    "\n",
    "Different users have different preferences. However, they do have a main baseline of essential foods to purchase whenever they shop. \n",
    "\n",
    "Moreover, with the convenience of Instacart, is it possible there is an indlux of other items than traditional grocery shopping purchases"
   ]
  },
  {
   "cell_type": "code",
   "execution_count": null,
   "metadata": {},
   "outputs": [],
   "source": []
  },
  {
   "cell_type": "markdown",
   "metadata": {},
   "source": [
    "### A/B Testing\n",
    "\n",
    "\n",
    "* A/B Testing\n",
    "    * For people in the \"prior\" eval_set, What was the average spend? From this average spend, can we identify if it's different from a hypothetical average of 10+ that value?\n",
    "    \n",
    "    * Let's grab a sample of the sample of prior * train people and top product. We investigate the datasets distributions. If the variances appear to be different, perform a test of determing if variances are quite different from each other"
   ]
  },
  {
   "cell_type": "markdown",
   "metadata": {},
   "source": [
    "## 3. Forecasting"
   ]
  },
  {
   "cell_type": "markdown",
   "metadata": {},
   "source": [
    "* Forecasting (Regression)\n",
    "    * Can we do regression on that group?\n",
    "____\n",
    "\n",
    "* What are the observed differences between returning shoppers and new shoppers?\n",
    "\n",
    "* Is there a major diference between the total average of orders from a particular segmented SRS from the population?\n",
    "\n",
    "* What can we identify as top product purchases? From these product purchases, do they belong in:\n",
    "    * a particular aisle\n",
    "    * part of a particular line/group of products?\n",
    "    * are noticeably purchased in a certain dow or other timeframe?"
   ]
  },
  {
   "cell_type": "code",
   "execution_count": 40,
   "metadata": {},
   "outputs": [],
   "source": [
    "from sklearn.linear_model import LogisticRegression"
   ]
  },
  {
   "cell_type": "code",
   "execution_count": 41,
   "metadata": {},
   "outputs": [],
   "source": [
    "#Obtain Orders Training Data\n",
    "## completed near top of the page ^^^\n",
    "\n",
    "# Obtain Orders Test Data \n",
    "ordersDf_test = ordersDf[ordersDf=['eval_set']=='test']"
   ]
  },
  {
   "cell_type": "code",
   "execution_count": 42,
   "metadata": {},
   "outputs": [],
   "source": [
    "orderProducts_withOrders = order_products_train.merge(ordersDf_prior, on= \\\n",
    "                                         ['order_id','order_id'],how='inner')"
   ]
  },
  {
   "cell_type": "code",
   "execution_count": 43,
   "metadata": {},
   "outputs": [],
   "source": [
    "features = orderProducts_withOrders[['days_since_prior_order','order_dow', \\\n",
    "                                     'order_hour_of_day','reordered']] \\\n",
    "      [:1000]"
   ]
  },
  {
   "cell_type": "code",
   "execution_count": 44,
   "metadata": {},
   "outputs": [],
   "source": [
    "target = orderProducts_withOrders['product_id'][:1000]"
   ]
  },
  {
   "cell_type": "code",
   "execution_count": 45,
   "metadata": {},
   "outputs": [],
   "source": [
    "model = LogisticRegression()"
   ]
  },
  {
   "cell_type": "code",
   "execution_count": 46,
   "metadata": {},
   "outputs": [
    {
     "data": {
      "text/plain": [
       "LogisticRegression(C=1.0, class_weight=None, dual=False, fit_intercept=True,\n",
       "          intercept_scaling=1, max_iter=100, multi_class='ovr', n_jobs=1,\n",
       "          penalty='l2', random_state=None, solver='liblinear', tol=0.0001,\n",
       "          verbose=0, warm_start=False)"
      ]
     },
     "execution_count": 46,
     "metadata": {},
     "output_type": "execute_result"
    }
   ],
   "source": [
    "model.fit(features,target)"
   ]
  },
  {
   "cell_type": "code",
   "execution_count": 47,
   "metadata": {},
   "outputs": [
    {
     "data": {
      "text/html": [
       "<div>\n",
       "<style scoped>\n",
       "    .dataframe tbody tr th:only-of-type {\n",
       "        vertical-align: middle;\n",
       "    }\n",
       "\n",
       "    .dataframe tbody tr th {\n",
       "        vertical-align: top;\n",
       "    }\n",
       "\n",
       "    .dataframe thead th {\n",
       "        text-align: right;\n",
       "    }\n",
       "</style>\n",
       "<table border=\"1\" class=\"dataframe\">\n",
       "  <thead>\n",
       "    <tr style=\"text-align: right;\">\n",
       "      <th></th>\n",
       "      <th>order_id</th>\n",
       "      <th>product_id</th>\n",
       "      <th>add_to_cart_order</th>\n",
       "      <th>reordered</th>\n",
       "    </tr>\n",
       "  </thead>\n",
       "  <tbody>\n",
       "    <tr>\n",
       "      <th>0</th>\n",
       "      <td>1</td>\n",
       "      <td>49302</td>\n",
       "      <td>1</td>\n",
       "      <td>1</td>\n",
       "    </tr>\n",
       "    <tr>\n",
       "      <th>1</th>\n",
       "      <td>1</td>\n",
       "      <td>11109</td>\n",
       "      <td>2</td>\n",
       "      <td>1</td>\n",
       "    </tr>\n",
       "    <tr>\n",
       "      <th>2</th>\n",
       "      <td>1</td>\n",
       "      <td>10246</td>\n",
       "      <td>3</td>\n",
       "      <td>0</td>\n",
       "    </tr>\n",
       "    <tr>\n",
       "      <th>3</th>\n",
       "      <td>1</td>\n",
       "      <td>49683</td>\n",
       "      <td>4</td>\n",
       "      <td>0</td>\n",
       "    </tr>\n",
       "    <tr>\n",
       "      <th>4</th>\n",
       "      <td>1</td>\n",
       "      <td>43633</td>\n",
       "      <td>5</td>\n",
       "      <td>1</td>\n",
       "    </tr>\n",
       "  </tbody>\n",
       "</table>\n",
       "</div>"
      ],
      "text/plain": [
       "   order_id  product_id  add_to_cart_order  reordered\n",
       "0         1       49302                  1          1\n",
       "1         1       11109                  2          1\n",
       "2         1       10246                  3          0\n",
       "3         1       49683                  4          0\n",
       "4         1       43633                  5          1"
      ]
     },
     "execution_count": 47,
     "metadata": {},
     "output_type": "execute_result"
    }
   ],
   "source": [
    "order_products_train.head()"
   ]
  },
  {
   "cell_type": "code",
   "execution_count": 48,
   "metadata": {},
   "outputs": [],
   "source": [
    "ordersDf_testOnly = ordersDf[ordersDf['eval_set']=='test'][:10]\n",
    "ordersDf_testOnly.head()\n",
    "orderProducts_withOrders = order_products_train.merge(ordersDf_testOnly, on= \\\n",
    "                                         ['order_id','order_id'],how='inner')\n",
    "\n",
    "\n",
    "features = orderProducts_withOrders[['days_since_prior_order','order_dow', \\\n",
    "                                     'order_hour_of_day','reordered']] \\\n",
    "      [:1000]\n",
    "# model.predict(ordersDf_testOnly)\n"
   ]
  },
  {
   "cell_type": "code",
   "execution_count": null,
   "metadata": {},
   "outputs": [],
   "source": []
  },
  {
   "cell_type": "markdown",
   "metadata": {},
   "source": [
    "## Resources\n",
    "\n",
    "[Starting with Postgres](https://www.codementor.io/engineerapart/getting-started-with-postgresql-on-mac-osx-are8jcopb)\n",
    "\n",
    "[Postgres via SQLAlchemy](https://www.compose.com/articles/using-postgresql-through-sqlalchemy/)"
   ]
  }
 ],
 "metadata": {
  "kernelspec": {
   "display_name": "Python 3",
   "language": "python",
   "name": "python3"
  },
  "language_info": {
   "codemirror_mode": {
    "name": "ipython",
    "version": 3
   },
   "file_extension": ".py",
   "mimetype": "text/x-python",
   "name": "python",
   "nbconvert_exporter": "python",
   "pygments_lexer": "ipython3",
   "version": "3.6.5"
  }
 },
 "nbformat": 4,
 "nbformat_minor": 2
}
